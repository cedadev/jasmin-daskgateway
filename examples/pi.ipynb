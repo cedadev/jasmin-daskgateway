{
 "cells": [
  {
   "cell_type": "markdown",
   "id": "8c647d67-2dd4-4601-9ad6-fb4a0b8d5ba0",
   "metadata": {},
   "source": [
    "dask_gateway is required to setup the connection to the cluster. Otherwise, xarray has builin support for dask so no further magic is required.dask_gateway is required to setup the connection to the cluster. Otherwise, xarray has builin support for dask so no further magic is required."
   ]
  },
  {
   "cell_type": "code",
   "execution_count": null,
   "id": "d0cc685a-f0aa-4363-865e-6e3151df91c9",
   "metadata": {},
   "outputs": [],
   "source": [
    "%matplotlib inline\n",
    "\n",
    "import os\n",
    "import pathlib\n",
    "\n",
    "import dask_gateway\n",
    "\n",
    "import dask.array as da\n",
    "import numpy as np\n",
    "import time"
   ]
  },
  {
   "cell_type": "markdown",
   "id": "57477e77-4776-4b70-8fad-2bcf58bf0a47",
   "metadata": {},
   "source": [
    "Connect to the the dask_gateway VM. Authentiaction is via a token available from the notebook's environment. If dask-gatway is used from the command line, it is neccessary to supply a token here.Connect to the the dask_gateway VM. Authentiaction is via a token available from the notebook's environment."
   ]
  },
  {
   "cell_type": "code",
   "execution_count": null,
   "id": "00265d78-7fe8-47e9-b34d-0606847b3908",
   "metadata": {},
   "outputs": [],
   "source": [
    "gw = dask_gateway.Gateway(\"https://dask-gateway.jasmin.ac.uk\", auth=\"jupyterhub\")"
   ]
  },
  {
   "cell_type": "markdown",
   "id": "5fcd2ab8-8fa8-41a5-8206-6cf395953f22",
   "metadata": {},
   "source": [
    "Have the gateway create a new dask cluster. This creates a dask scheduler job in LOTUS running as the user running the notebook. Since LOTUS jobs have to queue, we re-use our cluster rather than destroying it at the end of the script.Have the gateway create a new dask cluster. This creates a dask scheduler job in LOTUS running as the user running the notebook. Since LOTUS jobs have to queue, we re-use our cluster rather than destroying it at the end of the script."
   ]
  },
  {
   "cell_type": "code",
   "execution_count": null,
   "id": "1a8ab60d-2633-449d-bc1d-a8300b644071",
   "metadata": {},
   "outputs": [],
   "source": [
    "clusters = gw.list_clusters()\n",
    "if not clusters:\n",
    "    cluster = gw.new_cluster(shutdown_on_close=False)\n",
    "else:\n",
    "    cluster = gw.connect(clusters[0].name)"
   ]
  },
  {
   "cell_type": "markdown",
   "id": "2b0b74bb-0223-4c9b-8be9-43398ebc6ba8",
   "metadata": {},
   "source": [
    "Scale the cluster to have at least one and at most three workers. Each of these workers becomes it's own job in LOTUS, and is managed my the scheduler created in the last step. These workers have 4 cores and 16GiB of RAM each, but it is possible to ask for less."
   ]
  },
  {
   "cell_type": "code",
   "execution_count": null,
   "id": "deae3bf9-76fc-43c8-9f62-ef56483d6cb9",
   "metadata": {},
   "outputs": [],
   "source": [
    "cluster.adapt(minimum=1, maximum=3)"
   ]
  },
  {
   "cell_type": "markdown",
   "id": "79c47974-2894-4ce4-89ef-66471160c26b",
   "metadata": {},
   "source": [
    "Now that we have a stood-up cluster, we can get a client with which to inteact with it.Now that we have a stood-up cluster, we can get a client with which to inteact with it."
   ]
  },
  {
   "cell_type": "code",
   "execution_count": null,
   "id": "dd9d7ba1-311e-431d-87cd-cd7ffbcb72df",
   "metadata": {},
   "outputs": [],
   "source": [
    "client = cluster.get_client()"
   ]
  },
  {
   "cell_type": "markdown",
   "id": "51d524d3-90fa-4e04-97d5-20cd0c1635ca",
   "metadata": {},
   "source": [
    "Inspecting the client object will give the dashboard URL, which is proxied from the scheduler job via the gateway VM.\n"
   ]
  },
  {
   "cell_type": "code",
   "execution_count": null,
   "id": "5647e301-3e0b-4af9-b131-247665081f9b",
   "metadata": {},
   "outputs": [],
   "source": [
    "client"
   ]
  },
  {
   "cell_type": "raw",
   "id": "681fb25b-6779-4f2b-ac4b-604f0d95c45e",
   "metadata": {},
   "source": [
    "Use the created cluster to calculate pi using monte-carlo method."
   ]
  },
  {
   "cell_type": "code",
   "execution_count": null,
   "id": "969223fa-82bf-4c5a-ae45-a623abdcd3f0",
   "metadata": {},
   "outputs": [],
   "source": [
    "# from https://j23414.github.io/jekyll_rtd/geospatial/session3-intro-to-python-dask-on-ceres.html\n",
    "def calc_pi_mc(size_in_bytes, chunksize_in_bytes=200e6):  \n",
    "    \"\"\"Calculate PI using a Monte Carlo estimate.\"\"\"\n",
    "    \n",
    "    size = int(size_in_bytes / 8)\n",
    "    chunksize = int(chunksize_in_bytes / 8)\n",
    "    \n",
    "    xy = da.random.uniform(0, 1, size=(size / 2, 2), chunks=(chunksize / 2, 2))     \n",
    "    \n",
    "    in_circle = ((xy ** 2).sum(axis=-1) < 1)\n",
    "    pi = 4 * in_circle.mean()\n",
    "    return pi\n",
    "\n",
    "def print_pi_stats(size, pi, time_delta):  \n",
    "    \"\"\"Print pi, calculate offset from true value, and print some stats.\"\"\"\n",
    "    print(f\"{size / 1e9} GB\\n\"\n",
    "          f\"\\tMC pi: {pi : 13.11f}\"\n",
    "          f\"\\tErr: {abs(pi - np.pi) : 10.3e}\\n\"\n",
    "          f\"\\t\\tTime: {time_delta : 7.3f}s\")\n"
   ]
  },
  {
   "cell_type": "markdown",
   "id": "d9fab8a2-846e-4b17-8162-e7fa7b24ec69",
   "metadata": {},
   "source": [
    "Computations happen in dask due to the use of a dask array in the above definition. Subsequent operations on the dask array object automagically happen using dask.\n",
    "While the following is running, go explore the daskboard linked above!"
   ]
  },
  {
   "cell_type": "code",
   "execution_count": null,
   "id": "b67faace-9ca4-4e0e-a322-c1be1b786a7b",
   "metadata": {},
   "outputs": [],
   "source": [
    "for size in (1e9 * n for n in (1, 10, 100, 1000)):\n",
    "    start = time.time()\n",
    "    pi = calc_pi_mc(size).compute()\n",
    "    elaps = time.time() - start\n",
    "    print_pi_stats(size, pi, time_delta=elaps)"
   ]
  }
 ],
 "metadata": {
  "kernelspec": {
   "display_name": "Python 3 + Jaspy",
   "language": "python",
   "name": "jaspy"
  },
  "language_info": {
   "codemirror_mode": {
    "name": "ipython",
    "version": 3
   },
   "file_extension": ".py",
   "mimetype": "text/x-python",
   "name": "python",
   "nbconvert_exporter": "python",
   "pygments_lexer": "ipython3",
   "version": "3.10.5"
  }
 },
 "nbformat": 4,
 "nbformat_minor": 5
}
