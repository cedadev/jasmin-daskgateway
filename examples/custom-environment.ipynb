{
 "cells": [
  {
   "cell_type": "code",
   "execution_count": 27,
   "id": "c0f8f1bd-7564-4c3a-b1ba-7f33b61ffd47",
   "metadata": {},
   "outputs": [],
   "source": [
    "import dask_gateway\n",
    "import pathlib"
   ]
  },
  {
   "cell_type": "code",
   "execution_count": 28,
   "id": "a9c91ad5-bf78-45eb-83e2-70a31dbb8a42",
   "metadata": {},
   "outputs": [],
   "source": [
    "gw = dask_gateway.Gateway(\"https://dask-gateway.jasmin.ac.uk\", auth=\"jupyterhub\")"
   ]
  },
  {
   "cell_type": "code",
   "execution_count": 29,
   "id": "65a24a65-6989-4927-b815-f696afa3d710",
   "metadata": {},
   "outputs": [],
   "source": [
    "options = gw.cluster_options()\n",
    "options.worker_cores = 2"
   ]
  },
  {
   "cell_type": "markdown",
   "id": "66aff89d-9f6a-4d65-89c9-7d6f92ffe572",
   "metadata": {},
   "source": [
    "The command in the next cell tells dask-gateway to activate a virtual environment when starting a worker."
   ]
  },
  {
   "cell_type": "code",
   "execution_count": null,
   "id": "260f3d35-30b1-4c78-a270-15b4c7ce01cd",
   "metadata": {},
   "outputs": [],
   "source": [
    "options.worker_setup = f\"source {str(pathlib.Path('~/name-of-environment/bin/activate').expanduser())}\""
   ]
  },
  {
   "cell_type": "code",
   "execution_count": 30,
   "id": "c833b589-75f9-4906-8104-23349fbf31c3",
   "metadata": {},
   "outputs": [],
   "source": [
    "clusters = gw.list_clusters()\n",
    "if not clusters:\n",
    "    cluster = gw.new_cluster(options, shutdown_on_close=False)\n",
    "else:\n",
    "    cluster = gw.connect(clusters[0].name)\n",
    "    \n",
    "cluster.adapt(minimum=1, maximum=3)\n",
    "\n",
    "client = cluster.get_client()"
   ]
  },
  {
   "cell_type": "code",
   "execution_count": 31,
   "id": "d2d8daf4-9986-44c2-8774-bef738ed86a4",
   "metadata": {},
   "outputs": [
    {
     "data": {
      "text/html": [
       "<div>\n",
       "    <div style=\"width: 24px; height: 24px; background-color: #e1e1e1; border: 3px solid #9D9D9D; border-radius: 5px; position: absolute;\"> </div>\n",
       "    <div style=\"margin-left: 48px;\">\n",
       "        <h3 style=\"margin-bottom: 0px;\">Client</h3>\n",
       "        <p style=\"color: #9D9D9D; margin-bottom: 0px;\">Client-09f882ff-6596-11ed-8667-eadb8ef67f1e</p>\n",
       "        <table style=\"width: 100%; text-align: left;\">\n",
       "\n",
       "        <tr>\n",
       "        \n",
       "            <td style=\"text-align: left;\"><strong>Connection method:</strong> Cluster object</td>\n",
       "            <td style=\"text-align: left;\"><strong>Cluster type:</strong> dask_gateway.GatewayCluster</td>\n",
       "        \n",
       "        </tr>\n",
       "\n",
       "        \n",
       "            <tr>\n",
       "                <td style=\"text-align: left;\">\n",
       "                    <strong>Dashboard: </strong> <a href=\"https://dask-gateway.jasmin.ac.uk/clusters/8a20220742bf43089e7ccf2d684c6370/status\" target=\"_blank\">https://dask-gateway.jasmin.ac.uk/clusters/8a20220742bf43089e7ccf2d684c6370/status</a>\n",
       "                </td>\n",
       "                <td style=\"text-align: left;\"></td>\n",
       "            </tr>\n",
       "        \n",
       "\n",
       "        </table>\n",
       "\n",
       "        \n",
       "            <details>\n",
       "            <summary style=\"margin-bottom: 20px;\"><h3 style=\"display: inline;\">Cluster Info</h3></summary>\n",
       "            <div style='background-color: #f2f2f2; display: inline-block; padding: 10px; border: 1px solid #999999;'>\n",
       "  <h3>GatewayCluster</h3>\n",
       "  <ul>\n",
       "    <li><b>Name: </b>8a20220742bf43089e7ccf2d684c6370\n",
       "    <li><b>Dashboard: </b><a href='https://dask-gateway.jasmin.ac.uk/clusters/8a20220742bf43089e7ccf2d684c6370/status' target='_blank'>https://dask-gateway.jasmin.ac.uk/clusters/8a20220742bf43089e7ccf2d684c6370/status</a>\n",
       "  </ul>\n",
       "</div>\n",
       "\n",
       "            </details>\n",
       "        \n",
       "\n",
       "    </div>\n",
       "</div>"
      ],
      "text/plain": [
       "<Client: 'tls://172.17.11.140:39430' processes=1 threads=4, memory=8.00 GiB>"
      ]
     },
     "execution_count": 31,
     "metadata": {},
     "output_type": "execute_result"
    }
   ],
   "source": [
    "client"
   ]
  },
  {
   "cell_type": "markdown",
   "id": "15b9d1bd-b3d5-463a-a77b-37522d972ad0",
   "metadata": {},
   "source": [
    "It is very important that there are no version differences reported by dask. You can check with the following command."
   ]
  },
  {
   "cell_type": "code",
   "execution_count": 32,
   "id": "11862136-b1e9-4fe8-becf-9b43f980d897",
   "metadata": {},
   "outputs": [],
   "source": [
    "client.get_versions(check=True)"
   ]
  }
 ],
 "metadata": {
  "kernelspec": {
   "display_name": "flextrkr",
   "language": "python",
   "name": "flextrkr"
  },
  "language_info": {
   "codemirror_mode": {
    "name": "ipython",
    "version": 3
   },
   "file_extension": ".py",
   "mimetype": "text/x-python",
   "name": "python",
   "nbconvert_exporter": "python",
   "pygments_lexer": "ipython3",
   "version": "3.10.5"
  }
 },
 "nbformat": 4,
 "nbformat_minor": 5
}
