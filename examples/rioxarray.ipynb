{
 "cells": [
  {
   "cell_type": "markdown",
   "id": "d6aebc52-46e1-4927-a6d6-21806eabd2f5",
   "metadata": {},
   "source": [
    "dask_gateway is required to setup the connection to the cluster. Otherwise, xarray has builin support for dask so no further magic is required."
   ]
  },
  {
   "cell_type": "code",
   "execution_count": null,
   "id": "928fb486-709d-45ae-b61e-0d7e0be1f94a",
   "metadata": {},
   "outputs": [],
   "source": [
    "%matplotlib inline\n",
    "\n",
    "import os\n",
    "import pathlib\n",
    "\n",
    "import dask_gateway\n",
    "\n",
    "import rioxarray\n",
    "import rioxarray.merge\n",
    "import numpy as np\n",
    "import matplotlib.pyplot as plt\n",
    "import IPython.display\n",
    "import xarray as xr"
   ]
  },
  {
   "cell_type": "markdown",
   "id": "f78af00e-502d-4b93-97e5-b82ed823d048",
   "metadata": {},
   "source": [
    "Connect to the the dask_gateway VM. Authentiaction is via a token available from the notebook's environment."
   ]
  },
  {
   "cell_type": "code",
   "execution_count": null,
   "id": "01fc1d7c-43a6-470a-9ea9-ed3178dac66d",
   "metadata": {},
   "outputs": [],
   "source": [
    "gw = dask_gateway.Gateway(\"https://dask-gateway.jasmin.ac.uk\", auth=\"jupyterhub\")"
   ]
  },
  {
   "cell_type": "markdown",
   "id": "73601dc1-f891-4f3e-b79b-dc9b52ecff65",
   "metadata": {},
   "source": [
    "Have the gateway create a new dask cluster. This creates a dask scheduler job in LOTUS running as the user running the notebook.\n",
    "Since LOTUS jobs have to queue, we re-use our cluster rather than destroying it at the end of the script."
   ]
  },
  {
   "cell_type": "code",
   "execution_count": null,
   "id": "ba6959df-b3bf-4402-87d7-72bc3dea6a26",
   "metadata": {},
   "outputs": [],
   "source": [
    "clusters = gw.list_clusters()\n",
    "if not clusters:\n",
    "    cluster = gw.new_cluster(shutdown_on_close=False)\n",
    "else:\n",
    "    cluster = gw.connect(clusters[0].name)"
   ]
  },
  {
   "cell_type": "markdown",
   "id": "2f0e620e-f5dc-4bf1-a628-46a3df29b4b5",
   "metadata": {},
   "source": [
    "Scale the cluster to have three workers. Each of these workers becomes it's own job in LOTUS, and is managed my the scheduler created in the last step.\n",
    "These workers have 4 cores and 16GiB of RAM each, but it is possible to ask for less."
   ]
  },
  {
   "cell_type": "code",
   "execution_count": null,
   "id": "3158373d-0e8d-4bfd-8feb-f9a8fb720164",
   "metadata": {},
   "outputs": [],
   "source": [
    "cluster.scale(3)"
   ]
  },
  {
   "cell_type": "markdown",
   "id": "000d364a-b166-4aee-a926-af17bc2b212d",
   "metadata": {},
   "source": [
    "Now that we have a stood-up cluster, we can get a client with which to inteact with it."
   ]
  },
  {
   "cell_type": "code",
   "execution_count": null,
   "id": "c59c2ed0-bcda-4f40-80e4-3b33454fc923",
   "metadata": {},
   "outputs": [],
   "source": [
    "client = cluster.get_client()"
   ]
  },
  {
   "cell_type": "markdown",
   "id": "b0063aa3-ba4e-44d4-ac97-5e09e1d7fc06",
   "metadata": {},
   "source": [
    "Inspecting the client object will give the dashboard URL, which is proxied from the scheduler job via the gateway VM."
   ]
  },
  {
   "cell_type": "code",
   "execution_count": null,
   "id": "b7b3556b-d02b-4517-8703-b445bc330cb2",
   "metadata": {},
   "outputs": [],
   "source": [
    "client"
   ]
  },
  {
   "cell_type": "markdown",
   "id": "668566e3-12b0-4a96-a603-9b8e98cb5e9c",
   "metadata": {},
   "source": [
    "Dask is now setup. xarray and some other libraries will use it automatically if you tell them to split the data up into chunks.\n",
    "Otherwise, you can use dask.delayed or other tools.\n",
    "\n",
    "In this example we will use xarray to load some sentinel2 data, merge, plot and inspect it.\n",
    "Without dask, this crashes your notebook kernel due to the memory required to load and process the files."
   ]
  },
  {
   "cell_type": "markdown",
   "id": "ba01926b-26dc-47c0-aa34-605365db756f",
   "metadata": {},
   "source": [
    "Find some sentinel2 data from Southeast England."
   ]
  },
  {
   "cell_type": "code",
   "execution_count": null,
   "id": "db9a881b-7ab1-4fdb-8ee5-28c75c54ed17",
   "metadata": {},
   "outputs": [],
   "source": [
    "data_folder = pathlib.Path(\"/neodc/sentinel_ard/data/sentinel_2/2022/08/06\")\n",
    "images = [\n",
    "    \"S2B_20220806_lat51lon062_T30UYB_ORB094_utm30n_osgb\",\n",
    "    \"S2B_20220806_lat51lon08_T30UXB_ORB094_utm30n_osgb\",\n",
    "    \"S2B_20220806_lat52lon075_T30UXC_ORB094_utm30n_osgb\",\n",
    "    \"S2B_20220806_lat52lon07_T30UYC_ORB094_utm30n_osgb\"\n",
    "]\n",
    "\n",
    "#images = [images[0]]\n",
    "\n",
    "cloud_files = []\n",
    "col_files = []\n",
    "for image in images:\n",
    "    cloud_files += data_folder.glob(f\"{image}*clouds.tif\")\n",
    "    col_files += data_folder.glob(f\"{image}*stdsref.tif\")"
   ]
  },
  {
   "cell_type": "markdown",
   "id": "7100f675-7359-414a-b26b-ce47b77369a2",
   "metadata": {},
   "source": [
    "Load the files. The important argument here is \"chunks\" which tells xarray to create a dask array. Here we let it automagically choose chunk sizes."
   ]
  },
  {
   "cell_type": "code",
   "execution_count": null,
   "id": "964307eb-d5f6-4e1d-bc69-4df21f274be6",
   "metadata": {},
   "outputs": [],
   "source": [
    "# These files are ~1.5G each.\n",
    "col_loaded = []\n",
    "for file_ in col_files:\n",
    "    col_loaded.append(rioxarray.open_rasterio(file_, chunks=\"auto\"))\n",
    "    \n",
    "cloud_loaded = []\n",
    "for file_ in cloud_files:\n",
    "    cloud_loaded.append(rioxarray.open_rasterio(file_, chunks=\"auto\"))"
   ]
  },
  {
   "cell_type": "markdown",
   "id": "de890204-78e6-492a-97c6-62f34eea8b19",
   "metadata": {},
   "source": [
    "Inspecting the file shows how many chunks it was broken up into. Note that the file has not been loaded from disk into this notebook."
   ]
  },
  {
   "cell_type": "code",
   "execution_count": null,
   "id": "cced86fc-a98e-4e18-aba1-1fba36ee8d32",
   "metadata": {},
   "outputs": [],
   "source": [
    "col_loaded[0]"
   ]
  },
  {
   "cell_type": "markdown",
   "id": "ed6cc98d-0ee4-400c-9f70-ad31af3c6a36",
   "metadata": {},
   "source": [
    "We merge the files into one array, downscale them slightly and keep the new array as a dask array."
   ]
  },
  {
   "cell_type": "code",
   "execution_count": null,
   "id": "89a240b8-8e95-4163-b5a9-9dd62d53ba7f",
   "metadata": {},
   "outputs": [],
   "source": [
    "col = rioxarray.merge.merge_arrays(col_loaded, res=(40,40)).chunk(\"auto\")\n",
    "cloud = rioxarray.merge.merge_arrays(cloud_loaded, res=(40,40)).chunk(\"auto\")"
   ]
  },
  {
   "cell_type": "code",
   "execution_count": null,
   "id": "c9ef8548-01fe-44c5-ac8e-a2a499e8f7a6",
   "metadata": {},
   "outputs": [],
   "source": [
    "col"
   ]
  },
  {
   "cell_type": "markdown",
   "id": "814c0678-1247-410e-842c-3784cee2d35c",
   "metadata": {},
   "source": [
    "We can then plot-out the marged array. All the calculations happen on the workers and just the resulting plot is sent back to the notebook."
   ]
  },
  {
   "cell_type": "code",
   "execution_count": null,
   "id": "74adb105-9f49-4e15-90ad-8d64d98c75d1",
   "metadata": {},
   "outputs": [],
   "source": [
    "%%capture\n",
    "fig = plt.figure(figsize=(12.8, 9.6))\n",
    "ax = plt.axes()"
   ]
  },
  {
   "cell_type": "code",
   "execution_count": null,
   "id": "56f46a98-9de0-4762-8712-3de725941896",
   "metadata": {},
   "outputs": [],
   "source": [
    "col.sel(band=[3,2,1]).plot.imshow(ax=ax)"
   ]
  },
  {
   "cell_type": "code",
   "execution_count": null,
   "id": "0bd5daff-0c5e-4f93-9360-290ff15e5684",
   "metadata": {},
   "outputs": [],
   "source": [
    "IPython.display.display(fig)"
   ]
  },
  {
   "cell_type": "code",
   "execution_count": null,
   "id": "290793e2-3b0a-49b5-b5ca-923cf609e37f",
   "metadata": {},
   "outputs": [],
   "source": [
    "cloud.where(cloud > 1).squeeze().plot.imshow(ax=ax, cmap=\"Greys_r\", vmin=0, vmax=0)"
   ]
  },
  {
   "cell_type": "code",
   "execution_count": null,
   "id": "ecfe2635-fa02-4c32-b942-368552a925ca",
   "metadata": {},
   "outputs": [],
   "source": [
    "IPython.display.display(fig)"
   ]
  },
  {
   "cell_type": "markdown",
   "id": "f94ae910-2572-44bd-a217-4935021c1ebd",
   "metadata": {},
   "source": [
    "Operations on the arrays use dask and will not return a result until you call .compute()"
   ]
  },
  {
   "cell_type": "code",
   "execution_count": null,
   "id": "c6a42dd4-6ac3-493f-8450-2cf80f6eb90b",
   "metadata": {},
   "outputs": [],
   "source": [
    "cloud_cells = cloud.where(cloud > 1).count()\n",
    "cloud_cells"
   ]
  },
  {
   "cell_type": "code",
   "execution_count": null,
   "id": "5726f35e-ff20-4c17-9a53-5b9f3c63d763",
   "metadata": {},
   "outputs": [],
   "source": [
    "cloud_cells.compute()"
   ]
  },
  {
   "cell_type": "code",
   "execution_count": null,
   "id": "4a0d151a-0cd2-4c5a-bf4a-b08efa818576",
   "metadata": {},
   "outputs": [],
   "source": [
    "percent_cells_cloud = (cloud_cells / cloud.where(~np.isnan(cloud)).count()) * 100\n",
    "percent_cells_cloud"
   ]
  },
  {
   "cell_type": "code",
   "execution_count": null,
   "id": "d68dc630-72f4-42ae-8de3-b43675530b90",
   "metadata": {},
   "outputs": [],
   "source": [
    "percent_cells_cloud.compute()"
   ]
  }
 ],
 "metadata": {
  "kernelspec": {
   "display_name": "Python 3 + Jaspy",
   "language": "python",
   "name": "jaspy"
  },
  "language_info": {
   "codemirror_mode": {
    "name": "ipython",
    "version": 3
   },
   "file_extension": ".py",
   "mimetype": "text/x-python",
   "name": "python",
   "nbconvert_exporter": "python",
   "pygments_lexer": "ipython3",
   "version": "3.10.5"
  }
 },
 "nbformat": 4,
 "nbformat_minor": 5
}
