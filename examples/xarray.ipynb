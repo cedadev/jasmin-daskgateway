{
 "cells": [
  {
   "cell_type": "markdown",
   "id": "8c647d67-2dd4-4601-9ad6-fb4a0b8d5ba0",
   "metadata": {},
   "source": [
    "dask_gateway is required to setup the connection to the cluster. Otherwise, xarray has builin support for dask so no further magic is required.dask_gateway is required to setup the connection to the cluster. Otherwise, xarray has builin support for dask so no further magic is required."
   ]
  },
  {
   "cell_type": "code",
   "execution_count": null,
   "id": "d0cc685a-f0aa-4363-865e-6e3151df91c9",
   "metadata": {},
   "outputs": [],
   "source": [
    "%matplotlib inline\n",
    "\n",
    "import os\n",
    "import pathlib\n",
    "\n",
    "import dask_gateway\n",
    "\n",
    "import numpy as np\n",
    "import matplotlib.pyplot as plt\n",
    "import IPython.display\n",
    "import xarray as xr"
   ]
  },
  {
   "cell_type": "markdown",
   "id": "57477e77-4776-4b70-8fad-2bcf58bf0a47",
   "metadata": {},
   "source": [
    "Connect to the the dask_gateway VM. Authentiaction is via a token available from the notebook's environment. If dask-gatway is used from the command line, it is neccessary to supply a token here.Connect to the the dask_gateway VM. Authentiaction is via a token available from the notebook's environment."
   ]
  },
  {
   "cell_type": "code",
   "execution_count": null,
   "id": "00265d78-7fe8-47e9-b34d-0606847b3908",
   "metadata": {},
   "outputs": [],
   "source": [
    "gw = dask_gateway.Gateway(\"https://dask-gateway.jasmin.ac.uk\", auth=\"jupyterhub\")"
   ]
  },
  {
   "cell_type": "markdown",
   "id": "5fcd2ab8-8fa8-41a5-8206-6cf395953f22",
   "metadata": {},
   "source": [
    "Have the gateway create a new dask cluster. This creates a dask scheduler job in LOTUS running as the user running the notebook. Since LOTUS jobs have to queue, we re-use our cluster rather than destroying it at the end of the script.Have the gateway create a new dask cluster. This creates a dask scheduler job in LOTUS running as the user running the notebook. Since LOTUS jobs have to queue, we re-use our cluster rather than destroying it at the end of the script."
   ]
  },
  {
   "cell_type": "code",
   "execution_count": null,
   "id": "1a8ab60d-2633-449d-bc1d-a8300b644071",
   "metadata": {},
   "outputs": [],
   "source": [
    "clusters = gw.list_clusters()\n",
    "if not clusters:\n",
    "    cluster = gw.new_cluster(shutdown_on_close=False)\n",
    "else:\n",
    "    cluster = gw.connect(clusters[0].name)"
   ]
  },
  {
   "cell_type": "markdown",
   "id": "2b0b74bb-0223-4c9b-8be9-43398ebc6ba8",
   "metadata": {},
   "source": [
    "Scale the cluster to have two workers. Each of these workers becomes it's own job in LOTUS, and is managed my the scheduler created in the last step. These workers have 4 cores and 16GiB of RAM each, but it is possible to ask for less."
   ]
  },
  {
   "cell_type": "code",
   "execution_count": null,
   "id": "deae3bf9-76fc-43c8-9f62-ef56483d6cb9",
   "metadata": {},
   "outputs": [],
   "source": [
    "cluster.scale(2)"
   ]
  },
  {
   "cell_type": "markdown",
   "id": "79c47974-2894-4ce4-89ef-66471160c26b",
   "metadata": {},
   "source": [
    "Now that we have a stood-up cluster, we can get a client with which to inteact with it.Now that we have a stood-up cluster, we can get a client with which to inteact with it."
   ]
  },
  {
   "cell_type": "code",
   "execution_count": null,
   "id": "dd9d7ba1-311e-431d-87cd-cd7ffbcb72df",
   "metadata": {},
   "outputs": [],
   "source": [
    "client = cluster.get_client()"
   ]
  },
  {
   "cell_type": "markdown",
   "id": "51d524d3-90fa-4e04-97d5-20cd0c1635ca",
   "metadata": {},
   "source": [
    "Inspecting the client object will give the dashboard URL, which is proxied from the scheduler job via the gateway VM.\n"
   ]
  },
  {
   "cell_type": "code",
   "execution_count": null,
   "id": "5647e301-3e0b-4af9-b131-247665081f9b",
   "metadata": {},
   "outputs": [],
   "source": [
    "client"
   ]
  },
  {
   "cell_type": "markdown",
   "id": "dfc7aa39-2c04-496d-a3d6-1d327218290a",
   "metadata": {},
   "source": [
    "Then move onto the xarray dask tutorial: https://examples.dask.org/xarray.htmlhttps://examples.dask.org/xarray.html"
   ]
  },
  {
   "cell_type": "markdown",
   "id": "cc75fd43-43a4-41d0-8afb-740a1db98cc6",
   "metadata": {},
   "source": [
    "Opening a dataset with the 'chunks' parameter tells xarray to split the array into dask chunks."
   ]
  },
  {
   "cell_type": "code",
   "execution_count": null,
   "id": "8bf450f2-7e88-4b13-91f1-fd3af9712534",
   "metadata": {},
   "outputs": [],
   "source": [
    "ds = xr.tutorial.open_dataset('air_temperature', chunks={'lat': 25, 'lon': 25, 'time': -1})\n",
    "ds"
   ]
  },
  {
   "cell_type": "code",
   "execution_count": null,
   "id": "1091713e-dfc1-42fe-9112-a1d2c9ca236d",
   "metadata": {},
   "outputs": [],
   "source": [
    "da = ds['air']\n",
    "da"
   ]
  },
  {
   "cell_type": "markdown",
   "id": "7c1239a2-823b-4cca-8588-b088e30cd0db",
   "metadata": {},
   "source": [
    "Resampling operations are fast because of dask."
   ]
  },
  {
   "cell_type": "code",
   "execution_count": null,
   "id": "11d31b7b-3568-4007-8f13-70fcb2a82d14",
   "metadata": {},
   "outputs": [],
   "source": [
    "da.resample(time='1w').mean('time').std('time').load().plot(figsize=(12, 8))"
   ]
  },
  {
   "cell_type": "code",
   "execution_count": null,
   "id": "969223fa-82bf-4c5a-ae45-a623abdcd3f0",
   "metadata": {},
   "outputs": [],
   "source": []
  }
 ],
 "metadata": {
  "kernelspec": {
   "display_name": "Python 3 + Jaspy",
   "language": "python",
   "name": "jaspy"
  },
  "language_info": {
   "codemirror_mode": {
    "name": "ipython",
    "version": 3
   },
   "file_extension": ".py",
   "mimetype": "text/x-python",
   "name": "python",
   "nbconvert_exporter": "python",
   "pygments_lexer": "ipython3",
   "version": "3.10.5"
  }
 },
 "nbformat": 4,
 "nbformat_minor": 5
}
